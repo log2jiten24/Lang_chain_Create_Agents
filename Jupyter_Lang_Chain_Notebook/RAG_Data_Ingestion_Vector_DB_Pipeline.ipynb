{
  "cells": [
    {
      "cell_type": "markdown",
      "metadata": {},
      "source": [
        "# RAG Data Ingestion and Vector Database Pipeline\n\n",
        "This notebook demonstrates building a complete RAG system:\n",
        "1. Load PDF/text documents\n",
        "2. Create embeddings with HuggingFace\n",
        "3. Store in FAISS vector database\n",
        "4. Perform semantic search\n",
        "5. Build Q&A system with Claude\n\n",
        "## Setup\n",
        "```bash\n",
        "pip install langchain langchain-anthropic langchain-community\n",
        "pip install faiss-cpu sentence-transformers pypdf\n",
        "```"
      ]
    },
    {
      "cell_type": "code",
      "execution_count": null,
      "metadata": {},
      "outputs": [],
      "source": [
        "# Import libraries\n",
        "import os, sys\n",
        "sys.path.append('..')\n",
        "from Python_RAG_Agent.data_loader import load_all_documents\n",
        "from Python_RAG_Agent.Embeddings import EmbeddingManager\n",
        "from Python_RAG_Agent.vector_store import VectorStoreManager"
      ]
    },
    {
      "cell_type": "code",
      "execution_count": null,
      "metadata": {},
      "outputs": [],
      "source": [
        "# Load documents\n",
        "documents = load_all_documents('../sample_data/pdf_files')\n",
        "print(f'Loaded {len(documents)} documents')"
      ]
    },
    {
      "cell_type": "code",
      "execution_count": null,
      "metadata": {},
      "outputs": [],
      "source": [
        "# Create embeddings and vector store\n",
        "embedding_manager = EmbeddingManager()\n",
        "embeddings = embedding_manager.get_embeddings()\n",
        "vector_manager = VectorStoreManager(embeddings)\n",
        "vector_manager.create_vector_store(documents)"
      ]
    },
    {
      "cell_type": "code",
      "execution_count": null,
      "metadata": {},
      "outputs": [],
      "source": [
        "# Save vector store\n",
        "vector_manager.save('../data_storage/vector_store')"
      ]
    },
    {
      "cell_type": "code",
      "execution_count": null,
      "metadata": {},
      "outputs": [],
      "source": [
        "# Test similarity search\n",
        "results = vector_manager.similarity_search_with_score('What is the revenue?', k=3)\n",
        "for doc, score in results:\n",
        "    print(f'Score: {score:.4f}, Source: {doc.metadata}')"
      ]
    }
  ],
  "metadata": {
    "kernelspec": {
      "display_name": "Python 3",
      "language": "python",
      "name": "python3"
    }
  },
  "nbformat": 4,
  "nbformat_minor": 5
}